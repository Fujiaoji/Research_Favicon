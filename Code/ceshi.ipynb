{
 "cells": [
  {
   "cell_type": "code",
   "execution_count": 1,
   "metadata": {},
   "outputs": [],
   "source": [
    "import sys\n",
    "from PIL import Image\n",
    "\n"
   ]
  },
  {
   "cell_type": "code",
   "execution_count": 11,
   "metadata": {},
   "outputs": [
    {
     "name": "stdout",
     "output_type": "stream",
     "text": [
      "infile:  favicon2.ico format ICO (32, 32)xRGBA\n"
     ]
    }
   ],
   "source": [
    "\n",
    "infile = \"favicon2.ico\"\n",
    "try:\n",
    "    with Image.open(infile) as im:\n",
    "        print(\"infile: \",infile, \"format\", im.format, f\"{im.size}x{im.mode}\")\n",
    "except OSError:\n",
    "    pass\n",
    "\n"
   ]
  }
 ],
 "metadata": {
  "kernelspec": {
   "display_name": "Python 3.8.13 ('machinelearning')",
   "language": "python",
   "name": "python3"
  },
  "language_info": {
   "codemirror_mode": {
    "name": "ipython",
    "version": 3
   },
   "file_extension": ".py",
   "mimetype": "text/x-python",
   "name": "python",
   "nbconvert_exporter": "python",
   "pygments_lexer": "ipython3",
   "version": "3.8.13"
  },
  "orig_nbformat": 4,
  "vscode": {
   "interpreter": {
    "hash": "e398ee05330ab2b67a6fd13ddd7dfd461ae6aacfb911fe13bbd65834d6e300e2"
   }
  }
 },
 "nbformat": 4,
 "nbformat_minor": 2
}
